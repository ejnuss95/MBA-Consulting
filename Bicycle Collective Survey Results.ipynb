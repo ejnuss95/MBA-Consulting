{
 "cells": [
  {
   "cell_type": "code",
   "execution_count": 1,
   "metadata": {},
   "outputs": [],
   "source": [
    "import pandas as pd\n",
    "import matplotlib.pyplot as plt"
   ]
  },
  {
   "cell_type": "code",
   "execution_count": 2,
   "metadata": {},
   "outputs": [],
   "source": [
    "bicycle = pd.read_csv('Bike Collective Survey Results.csv')"
   ]
  },
  {
   "cell_type": "code",
   "execution_count": 3,
   "metadata": {
    "scrolled": true
   },
   "outputs": [
    {
     "data": {
      "text/html": [
       "<div>\n",
       "<style scoped>\n",
       "    .dataframe tbody tr th:only-of-type {\n",
       "        vertical-align: middle;\n",
       "    }\n",
       "\n",
       "    .dataframe tbody tr th {\n",
       "        vertical-align: top;\n",
       "    }\n",
       "\n",
       "    .dataframe thead th {\n",
       "        text-align: right;\n",
       "    }\n",
       "</style>\n",
       "<table border=\"1\" class=\"dataframe\">\n",
       "  <thead>\n",
       "    <tr style=\"text-align: right;\">\n",
       "      <th></th>\n",
       "      <th>Have you heard of the Bicycle Collective</th>\n",
       "      <th>If yes, which one are you closest to?</th>\n",
       "      <th>If you have heard of the Bicycle Collective how did your learn about it?</th>\n",
       "      <th>How often do you ride your bicycle?</th>\n",
       "      <th>What is the primary use of your bike?</th>\n",
       "      <th>How often do you service/repair your bicycle?</th>\n",
       "      <th>Would you utilize a mobile bicycle repair service that meets at a location convenient to you (house, park, work, church etc)</th>\n",
       "      <th>Are there other services or events you would like to see out of the Bicycle Collective (e.g. events, group rides etc)</th>\n",
       "      <th>What is your preferred social media platform?</th>\n",
       "      <th>Age</th>\n",
       "      <th>Gender (optional)</th>\n",
       "      <th>Household income (optional)</th>\n",
       "    </tr>\n",
       "  </thead>\n",
       "  <tbody>\n",
       "    <tr>\n",
       "      <th>0</th>\n",
       "      <td>Yes</td>\n",
       "      <td>St. George</td>\n",
       "      <td>Word of mouth</td>\n",
       "      <td>Few times a month</td>\n",
       "      <td>Hobby/Recreation</td>\n",
       "      <td>Every year</td>\n",
       "      <td>Yes</td>\n",
       "      <td>Etc</td>\n",
       "      <td>Snapchat</td>\n",
       "      <td>19-29</td>\n",
       "      <td>Prefer not to say</td>\n",
       "      <td>$50,001-$75,000</td>\n",
       "    </tr>\n",
       "    <tr>\n",
       "      <th>1</th>\n",
       "      <td>Yes</td>\n",
       "      <td>Provo</td>\n",
       "      <td>Bike shop</td>\n",
       "      <td>Daily</td>\n",
       "      <td>Exercise</td>\n",
       "      <td>&lt;every 3 months</td>\n",
       "      <td>Yes</td>\n",
       "      <td>Group rides and more connection with bike shops.</td>\n",
       "      <td>Facebook</td>\n",
       "      <td>19-29</td>\n",
       "      <td>Male</td>\n",
       "      <td>&lt;$25,000</td>\n",
       "    </tr>\n",
       "    <tr>\n",
       "      <th>2</th>\n",
       "      <td>Yes</td>\n",
       "      <td>Salt Lake City</td>\n",
       "      <td>Facebook</td>\n",
       "      <td>Only on weekends</td>\n",
       "      <td>Hobby/Recreation</td>\n",
       "      <td>Only when something breaks</td>\n",
       "      <td>Yes</td>\n",
       "      <td>NaN</td>\n",
       "      <td>Instagram</td>\n",
       "      <td>30-39</td>\n",
       "      <td>Female</td>\n",
       "      <td>$25,001-$50,000</td>\n",
       "    </tr>\n",
       "    <tr>\n",
       "      <th>3</th>\n",
       "      <td>Yes</td>\n",
       "      <td>Salt Lake City</td>\n",
       "      <td>Word of mouth</td>\n",
       "      <td>Only on weekends</td>\n",
       "      <td>Hobby/Recreation</td>\n",
       "      <td>Every year</td>\n",
       "      <td>Yes</td>\n",
       "      <td>Group rides</td>\n",
       "      <td>Instagram</td>\n",
       "      <td>30-39</td>\n",
       "      <td>Female</td>\n",
       "      <td>$50,001-$75,000</td>\n",
       "    </tr>\n",
       "    <tr>\n",
       "      <th>4</th>\n",
       "      <td>No</td>\n",
       "      <td>NaN</td>\n",
       "      <td>NaN</td>\n",
       "      <td>Few times a week</td>\n",
       "      <td>Hobby/Recreation</td>\n",
       "      <td>&lt;every 3 months</td>\n",
       "      <td>Unsure at this time</td>\n",
       "      <td>Events! Maybe how to do simple service on your...</td>\n",
       "      <td>Instagram</td>\n",
       "      <td>19-29</td>\n",
       "      <td>Female</td>\n",
       "      <td>$50,001-$75,000</td>\n",
       "    </tr>\n",
       "    <tr>\n",
       "      <th>...</th>\n",
       "      <td>...</td>\n",
       "      <td>...</td>\n",
       "      <td>...</td>\n",
       "      <td>...</td>\n",
       "      <td>...</td>\n",
       "      <td>...</td>\n",
       "      <td>...</td>\n",
       "      <td>...</td>\n",
       "      <td>...</td>\n",
       "      <td>...</td>\n",
       "      <td>...</td>\n",
       "      <td>...</td>\n",
       "    </tr>\n",
       "    <tr>\n",
       "      <th>381</th>\n",
       "      <td>Yes</td>\n",
       "      <td>Provo</td>\n",
       "      <td>Drove past.</td>\n",
       "      <td>Daily</td>\n",
       "      <td>Exercise</td>\n",
       "      <td>Every 3 months</td>\n",
       "      <td>No</td>\n",
       "      <td>Don't know that much about it. I overheard one...</td>\n",
       "      <td>Facebook</td>\n",
       "      <td>40-49</td>\n",
       "      <td>Female</td>\n",
       "      <td>$75,001-$100,000</td>\n",
       "    </tr>\n",
       "    <tr>\n",
       "      <th>382</th>\n",
       "      <td>Yes</td>\n",
       "      <td>St. George</td>\n",
       "      <td>Word of mouth</td>\n",
       "      <td>Few times a week</td>\n",
       "      <td>Hobby/Recreation</td>\n",
       "      <td>Every 6 months</td>\n",
       "      <td>No</td>\n",
       "      <td>Not that I can think of</td>\n",
       "      <td>Instagram</td>\n",
       "      <td>30-39</td>\n",
       "      <td>Male</td>\n",
       "      <td>&gt;$100,000</td>\n",
       "    </tr>\n",
       "    <tr>\n",
       "      <th>383</th>\n",
       "      <td>Yes</td>\n",
       "      <td>Salt Lake City</td>\n",
       "      <td>Word of mouth</td>\n",
       "      <td>Few times a week</td>\n",
       "      <td>Exercise</td>\n",
       "      <td>Every 6 months</td>\n",
       "      <td>Unsure at this time</td>\n",
       "      <td>No</td>\n",
       "      <td>Facebook</td>\n",
       "      <td>40-49</td>\n",
       "      <td>Female</td>\n",
       "      <td>&gt;$100,000</td>\n",
       "    </tr>\n",
       "    <tr>\n",
       "      <th>384</th>\n",
       "      <td>Yes</td>\n",
       "      <td>Salt Lake City</td>\n",
       "      <td>Word of mouth</td>\n",
       "      <td>Few times a week</td>\n",
       "      <td>Hobby/Recreation</td>\n",
       "      <td>Every 3 months</td>\n",
       "      <td>Yes</td>\n",
       "      <td>Group rides</td>\n",
       "      <td>Instagram</td>\n",
       "      <td>30-39</td>\n",
       "      <td>Male</td>\n",
       "      <td>$25,001-$50,000</td>\n",
       "    </tr>\n",
       "    <tr>\n",
       "      <th>385</th>\n",
       "      <td>Yes</td>\n",
       "      <td>St. George</td>\n",
       "      <td>Word of mouth</td>\n",
       "      <td>Not Applicable</td>\n",
       "      <td>don't ride</td>\n",
       "      <td>never</td>\n",
       "      <td>Unsure at this time</td>\n",
       "      <td>NaN</td>\n",
       "      <td>Facebook</td>\n",
       "      <td>50+</td>\n",
       "      <td>Female</td>\n",
       "      <td>$75,001-$100,000</td>\n",
       "    </tr>\n",
       "  </tbody>\n",
       "</table>\n",
       "<p>386 rows × 12 columns</p>\n",
       "</div>"
      ],
      "text/plain": [
       "    Have you heard of the Bicycle Collective  \\\n",
       "0                                        Yes   \n",
       "1                                        Yes   \n",
       "2                                        Yes   \n",
       "3                                        Yes   \n",
       "4                                         No   \n",
       "..                                       ...   \n",
       "381                                      Yes   \n",
       "382                                      Yes   \n",
       "383                                      Yes   \n",
       "384                                      Yes   \n",
       "385                                      Yes   \n",
       "\n",
       "    If yes, which one are you closest to?  \\\n",
       "0                              St. George   \n",
       "1                                   Provo   \n",
       "2                          Salt Lake City   \n",
       "3                          Salt Lake City   \n",
       "4                                     NaN   \n",
       "..                                    ...   \n",
       "381                                 Provo   \n",
       "382                            St. George   \n",
       "383                        Salt Lake City   \n",
       "384                        Salt Lake City   \n",
       "385                            St. George   \n",
       "\n",
       "    If you have heard of the Bicycle Collective how did your learn about it?  \\\n",
       "0                                        Word of mouth                         \n",
       "1                                            Bike shop                         \n",
       "2                                             Facebook                         \n",
       "3                                        Word of mouth                         \n",
       "4                                                  NaN                         \n",
       "..                                                 ...                         \n",
       "381                                        Drove past.                         \n",
       "382                                      Word of mouth                         \n",
       "383                                      Word of mouth                         \n",
       "384                                      Word of mouth                         \n",
       "385                                      Word of mouth                         \n",
       "\n",
       "    How often do you ride your bicycle? What is the primary use of your bike?  \\\n",
       "0                     Few times a month                      Hobby/Recreation   \n",
       "1                                 Daily                              Exercise   \n",
       "2                      Only on weekends                      Hobby/Recreation   \n",
       "3                      Only on weekends                      Hobby/Recreation   \n",
       "4                      Few times a week                      Hobby/Recreation   \n",
       "..                                  ...                                   ...   \n",
       "381                               Daily                              Exercise   \n",
       "382                    Few times a week                      Hobby/Recreation   \n",
       "383                    Few times a week                              Exercise   \n",
       "384                    Few times a week                      Hobby/Recreation   \n",
       "385                      Not Applicable                            don't ride   \n",
       "\n",
       "    How often do you service/repair your bicycle?  \\\n",
       "0                                      Every year   \n",
       "1                                 <every 3 months   \n",
       "2                      Only when something breaks   \n",
       "3                                      Every year   \n",
       "4                                 <every 3 months   \n",
       "..                                            ...   \n",
       "381                                Every 3 months   \n",
       "382                                Every 6 months   \n",
       "383                                Every 6 months   \n",
       "384                                Every 3 months   \n",
       "385                                         never   \n",
       "\n",
       "    Would you utilize a mobile bicycle repair service that meets at a location convenient to you (house, park, work, church etc)  \\\n",
       "0                                                  Yes                                                                             \n",
       "1                                                  Yes                                                                             \n",
       "2                                                  Yes                                                                             \n",
       "3                                                  Yes                                                                             \n",
       "4                                  Unsure at this time                                                                             \n",
       "..                                                 ...                                                                             \n",
       "381                                                 No                                                                             \n",
       "382                                                 No                                                                             \n",
       "383                                Unsure at this time                                                                             \n",
       "384                                                Yes                                                                             \n",
       "385                                Unsure at this time                                                                             \n",
       "\n",
       "    Are there other services or events you would like to see out of the Bicycle Collective (e.g. events, group rides etc)  \\\n",
       "0                                                  Etc                                                                      \n",
       "1     Group rides and more connection with bike shops.                                                                      \n",
       "2                                                  NaN                                                                      \n",
       "3                                          Group rides                                                                      \n",
       "4    Events! Maybe how to do simple service on your...                                                                      \n",
       "..                                                 ...                                                                      \n",
       "381  Don't know that much about it. I overheard one...                                                                      \n",
       "382                            Not that I can think of                                                                      \n",
       "383                                                 No                                                                      \n",
       "384                                        Group rides                                                                      \n",
       "385                                                NaN                                                                      \n",
       "\n",
       "    What is your preferred social media platform?    Age  Gender (optional)  \\\n",
       "0                                        Snapchat  19-29  Prefer not to say   \n",
       "1                                        Facebook  19-29               Male   \n",
       "2                                       Instagram  30-39             Female   \n",
       "3                                       Instagram  30-39             Female   \n",
       "4                                       Instagram  19-29             Female   \n",
       "..                                            ...    ...                ...   \n",
       "381                                      Facebook  40-49             Female   \n",
       "382                                     Instagram  30-39               Male   \n",
       "383                                      Facebook  40-49             Female   \n",
       "384                                     Instagram  30-39               Male   \n",
       "385                                      Facebook    50+             Female   \n",
       "\n",
       "    Household income (optional)  \n",
       "0               $50,001-$75,000  \n",
       "1                      <$25,000  \n",
       "2               $25,001-$50,000  \n",
       "3               $50,001-$75,000  \n",
       "4               $50,001-$75,000  \n",
       "..                          ...  \n",
       "381            $75,001-$100,000  \n",
       "382                   >$100,000  \n",
       "383                   >$100,000  \n",
       "384             $25,001-$50,000  \n",
       "385            $75,001-$100,000  \n",
       "\n",
       "[386 rows x 12 columns]"
      ]
     },
     "execution_count": 3,
     "metadata": {},
     "output_type": "execute_result"
    }
   ],
   "source": [
    "bicycle"
   ]
  },
  {
   "cell_type": "code",
   "execution_count": 4,
   "metadata": {
    "scrolled": true
   },
   "outputs": [
    {
     "data": {
      "text/plain": [
       "Yes    299\n",
       "No      87\n",
       "Name: Have you heard of the Bicycle Collective, dtype: int64"
      ]
     },
     "execution_count": 4,
     "metadata": {},
     "output_type": "execute_result"
    }
   ],
   "source": [
    "bicycle['Have you heard of the Bicycle Collective'].value_counts()"
   ]
  },
  {
   "cell_type": "code",
   "execution_count": 5,
   "metadata": {},
   "outputs": [
    {
     "data": {
      "text/plain": [
       "0.7746113989637305"
      ]
     },
     "execution_count": 5,
     "metadata": {},
     "output_type": "execute_result"
    }
   ],
   "source": [
    "# Percent that has heard of Bicycle Collective\n",
    "299/386"
   ]
  },
  {
   "cell_type": "code",
   "execution_count": 7,
   "metadata": {
    "scrolled": true
   },
   "outputs": [
    {
     "data": {
      "text/plain": [
       "<AxesSubplot:ylabel='Have you heard of the Bicycle Collective'>"
      ]
     },
     "execution_count": 7,
     "metadata": {},
     "output_type": "execute_result"
    },
    {
     "data": {
      "image/png": "[encoded data removed]",
      "text/plain": [
       "<Figure size 432x288 with 1 Axes>"
      ]
     },
     "metadata": {},
     "output_type": "display_data"
    }
   ],
   "source": [
    "bicycle['Have you heard of the Bicycle Collective'].value_counts().plot(kind='pie')"
   ]
  },
  {
   "cell_type": "code",
   "execution_count": 8,
   "metadata": {
    "scrolled": true
   },
   "outputs": [
    {
     "data": {
      "text/plain": [
       "Salt Lake City           143\n",
       "St. George               103\n",
       "Provo                     48\n",
       "Ogden                     37\n",
       "I don't live near one     18\n",
       "Name: If yes, which one are you closest to?, dtype: int64"
      ]
     },
     "execution_count": 8,
     "metadata": {},
     "output_type": "execute_result"
    }
   ],
   "source": [
    "bicycle['If yes, which one are you closest to?'].value_counts()"
   ]
  },
  {
   "cell_type": "markdown",
   "metadata": {},
   "source": [
    "40% of those who have heard of bicycle collective have heard of Salt Lake City "
   ]
  },
  {
   "cell_type": "code",
   "execution_count": 9,
   "metadata": {},
   "outputs": [
    {
     "data": {
      "text/plain": [
       "<AxesSubplot:>"
      ]
     },
     "execution_count": 9,
     "metadata": {},
     "output_type": "execute_result"
    },
    {
     "data": {
      "image/png": "[encoded data removed]",
      "text/plain": [
       "<Figure size 432x288 with 1 Axes>"
      ]
     },
     "metadata": {
      "needs_background": "light"
     },
     "output_type": "display_data"
    }
   ],
   "source": [
    "bicycle['If yes, which one are you closest to?'].value_counts().plot(kind='barh')"
   ]
  },
  {
   "cell_type": "code",
   "execution_count": 10,
   "metadata": {},
   "outputs": [
    {
     "data": {
      "text/plain": [
       "Word of mouth                                                         166\n",
       "Facebook                                                               96\n",
       "Google                                                                  8\n",
       "Instagram                                                               3\n",
       "Local                                                                   1\n",
       "Drove past.                                                             1\n",
       "Not sure worked for health department and lived here a long time        1\n",
       "They help at elementary schools                                         1\n",
       "Work                                                                    1\n",
       "Bike industry insider                                                   1\n",
       "KSL Classifieds                                                         1\n",
       "Radio                                                                   1\n",
       "Know someone who worksthere                                             1\n",
       "I looked up one in Ogden when I was in my Huntsville home.              1\n",
       "Saw it driving by                                                       1\n",
       "Work- arup                                                              1\n",
       "Community                                                               1\n",
       "Haven't heard of them                                                   1\n",
       "Mechanic classes                                                        1\n",
       "founded it/ started in my warehouse                                     1\n",
       "Newspaper                                                               1\n",
       "Charity event                                                           1\n",
       "Saw it                                                                  1\n",
       "Cycling newspaper                                                       1\n",
       "Work with them                                                          1\n",
       "I don’t recall                                                          1\n",
       "Drove by                                                                1\n",
       "I can't remember                                                        1\n",
       "Work - I partnered with them at the University of Utah                  1\n",
       "Driving by                                                              1\n",
       "Driving By                                                              1\n",
       "Drive by                                                                1\n",
       "I used to work for QBP in Ogden and we worked with the collective.      1\n",
       "KRCL                                                                    1\n",
       "Bike shop                                                               1\n",
       "Cycling Utah                                                            1\n",
       "KRCL, and they were at Pioneer Park and Red Butte for shows             1\n",
       "Physics Brian, one of the founders                                      1\n",
       "I run a refugee nonprofit and they have helped many refugees.           1\n",
       "Bike prom 2012                                                          1\n",
       "My son volunteered and later worked there.                              1\n",
       "St. George News                                                         1\n",
       "Name: If you have heard of the Bicycle Collective how did your learn about it?, dtype: int64"
      ]
     },
     "execution_count": 10,
     "metadata": {},
     "output_type": "execute_result"
    }
   ],
   "source": [
    "bicycle['If you have heard of the Bicycle Collective how did your learn about it?'].value_counts()"
   ]
  },
  {
   "cell_type": "code",
   "execution_count": 11,
   "metadata": {},
   "outputs": [
    {
     "data": {
      "text/plain": [
       "53.37620578778135"
      ]
     },
     "execution_count": 11,
     "metadata": {},
     "output_type": "execute_result"
    }
   ],
   "source": [
    "# Percent who have heard from Word of Mouth\n",
    "166/311 * 100"
   ]
  },
  {
   "cell_type": "code",
   "execution_count": 12,
   "metadata": {},
   "outputs": [
    {
     "data": {
      "text/plain": [
       "30.86816720257235"
      ]
     },
     "execution_count": 12,
     "metadata": {},
     "output_type": "execute_result"
    }
   ],
   "source": [
    "#Percent who have heard from Facebook\n",
    "96/311 * 100"
   ]
  },
  {
   "cell_type": "code",
   "execution_count": 13,
   "metadata": {},
   "outputs": [
    {
     "data": {
      "text/plain": [
       "2.572347266881029"
      ]
     },
     "execution_count": 13,
     "metadata": {},
     "output_type": "execute_result"
    }
   ],
   "source": [
    "#Percent who have heard from Google\n",
    "8/311 * 100"
   ]
  },
  {
   "cell_type": "code",
   "execution_count": 14,
   "metadata": {},
   "outputs": [
    {
     "data": {
      "text/plain": [
       "13.183279742765272"
      ]
     },
     "execution_count": 14,
     "metadata": {},
     "output_type": "execute_result"
    }
   ],
   "source": [
    "# Other various ways people know about bicycle collective\n",
    "41/311 * 100"
   ]
  },
  {
   "cell_type": "code",
   "execution_count": 15,
   "metadata": {},
   "outputs": [
    {
     "data": {
      "text/plain": [
       "Few times a week     208\n",
       "Few times a month     53\n",
       "Daily                 45\n",
       "Rarely                41\n",
       "Only on weekends      27\n",
       "Not Applicable        12\n",
       "Name: How often do you ride your bicycle?, dtype: int64"
      ]
     },
     "execution_count": 15,
     "metadata": {},
     "output_type": "execute_result"
    }
   ],
   "source": [
    "bicycle['How often do you ride your bicycle?'].value_counts()"
   ]
  },
  {
   "cell_type": "code",
   "execution_count": 16,
   "metadata": {},
   "outputs": [
    {
     "data": {
      "text/plain": [
       "<AxesSubplot:>"
      ]
     },
     "execution_count": 16,
     "metadata": {},
     "output_type": "execute_result"
    },
    {
     "data": {
      "image/png": "[encoded data removed]",
      "text/plain": [
       "<Figure size 432x288 with 1 Axes>"
      ]
     },
     "metadata": {
      "needs_background": "light"
     },
     "output_type": "display_data"
    }
   ],
   "source": [
    "bicycle['How often do you ride your bicycle?'].value_counts().plot(kind='barh')"
   ]
  },
  {
   "cell_type": "code",
   "execution_count": 17,
   "metadata": {},
   "outputs": [
    {
     "data": {
      "text/plain": [
       "0.538860103626943"
      ]
     },
     "execution_count": 17,
     "metadata": {},
     "output_type": "execute_result"
    }
   ],
   "source": [
    "#Percent who ride it a few times a week\n",
    "208/386"
   ]
  },
  {
   "cell_type": "code",
   "execution_count": 18,
   "metadata": {},
   "outputs": [
    {
     "data": {
      "text/plain": [
       "0.1853146853146853"
      ]
     },
     "execution_count": 18,
     "metadata": {},
     "output_type": "execute_result"
    }
   ],
   "source": [
    "#Percent who ride it a few times a month\n",
    "53/286"
   ]
  },
  {
   "cell_type": "code",
   "execution_count": 19,
   "metadata": {},
   "outputs": [
    {
     "data": {
      "text/plain": [
       "0.15734265734265734"
      ]
     },
     "execution_count": 19,
     "metadata": {},
     "output_type": "execute_result"
    }
   ],
   "source": [
    "#Percent who ride it daily\n",
    "45/286"
   ]
  },
  {
   "cell_type": "code",
   "execution_count": 20,
   "metadata": {},
   "outputs": [
    {
     "data": {
      "text/plain": [
       "0.7927461139896373"
      ]
     },
     "execution_count": 20,
     "metadata": {},
     "output_type": "execute_result"
    }
   ],
   "source": [
    "# Percent who ride at least a few times a month\n",
    "306/386"
   ]
  },
  {
   "cell_type": "code",
   "execution_count": 21,
   "metadata": {},
   "outputs": [
    {
     "data": {
      "text/plain": [
       "Few times a week     167\n",
       "Daily                 40\n",
       "Few times a month     35\n",
       "Rarely                25\n",
       "Only on weekends      24\n",
       "Not Applicable         8\n",
       "Name: How often do you ride your bicycle?, dtype: int64"
      ]
     },
     "execution_count": 21,
     "metadata": {},
     "output_type": "execute_result"
    }
   ],
   "source": [
    "# Those who have heard of bicycle collective, how often have they ride their bike\n",
    "mask = bicycle['Have you heard of the Bicycle Collective'] == 'Yes'\n",
    "bicycle[mask]['How often do you ride your bicycle?'].value_counts()\n"
   ]
  },
  {
   "cell_type": "code",
   "execution_count": 22,
   "metadata": {},
   "outputs": [
    {
     "data": {
      "text/plain": [
       "<every 3 months                                                             106\n",
       "Only when something breaks                                                   72\n",
       "Every 3 months                                                               64\n",
       "Every 6 months                                                               60\n",
       "Every year                                                                   58\n",
       "Weekly                                                                        2\n",
       "Na                                                                            2\n",
       "I work my drive train every ride                                              1\n",
       "never                                                                         1\n",
       "Every ride                                                                    1\n",
       "Big things when needed. Drive train and such after every few rides            1\n",
       "I don't have a bike                                                           1\n",
       "Monthly                                                                       1\n",
       "Never, don't have a bicycle                                                   1\n",
       "I don’t have a bike                                                           1\n",
       "Weekly in simmer but my spouse does it                                        1\n",
       "Clean and lube every 2 weeks. Fix when broken                                 1\n",
       "I maintain my bikes very well. I work on them when they need maintenance      1\n",
       "I’m hoping for repair help when needed.                                       1\n",
       "Regular maintenance or major repairs                                          1\n",
       "Regularly on high wear items and as recommended by manufacturer               1\n",
       "Never                                                                         1\n",
       "When the urge strikes...                                                      1\n",
       "Maintain it myself                                                            1\n",
       "Before riding                                                                 1\n",
       "N/a                                                                           1\n",
       "I don't, my husband does                                                      1\n",
       "Don’t have a bike                                                             1\n",
       "The > may be wrong                                                            1\n",
       "Name: How often do you service/repair your bicycle?, dtype: int64"
      ]
     },
     "execution_count": 22,
     "metadata": {},
     "output_type": "execute_result"
    }
   ],
   "source": [
    "bicycle['How often do you service/repair your bicycle?'].value_counts()"
   ]
  },
  {
   "cell_type": "code",
   "execution_count": 23,
   "metadata": {},
   "outputs": [
    {
     "data": {
      "text/plain": [
       "<every 3 months                                                             86\n",
       "Every 6 months                                                              56\n",
       "Every 3 months                                                              55\n",
       "Only when something breaks                                                  44\n",
       "Every year                                                                  39\n",
       "Na                                                                           2\n",
       "I maintain my bikes very well. I work on them when they need maintenance     1\n",
       "Weekly                                                                       1\n",
       "Maintain it myself                                                           1\n",
       "The > may be wrong                                                           1\n",
       "I don't, my husband does                                                     1\n",
       "Regularly on high wear items and as recommended by manufacturer              1\n",
       "Big things when needed. Drive train and such after every few rides           1\n",
       "I work my drive train every ride                                             1\n",
       "Monthly                                                                      1\n",
       "Every ride                                                                   1\n",
       "never                                                                        1\n",
       "Never, don't have a bicycle                                                  1\n",
       "Clean and lube every 2 weeks. Fix when broken                                1\n",
       "N/a                                                                          1\n",
       "Weekly in simmer but my spouse does it                                       1\n",
       "Don’t have a bike                                                            1\n",
       "I’m hoping for repair help when needed.                                      1\n",
       "Name: How often do you service/repair your bicycle?, dtype: int64"
      ]
     },
     "execution_count": 23,
     "metadata": {},
     "output_type": "execute_result"
    }
   ],
   "source": [
    "#If they have heard of Bicycle Collective, how often they service their bike \n",
    "mask = bicycle['Have you heard of the Bicycle Collective'] == 'Yes'\n",
    "bicycle[mask]['How often do you service/repair your bicycle?'].value_counts()"
   ]
  },
  {
   "cell_type": "code",
   "execution_count": 24,
   "metadata": {},
   "outputs": [
    {
     "data": {
      "text/plain": [
       "Yes                    144\n",
       "Unsure at this time    126\n",
       "No                     116\n",
       "Name: Would you utilize a mobile bicycle repair service that meets at a location convenient to you (house, park, work, church etc), dtype: int64"
      ]
     },
     "execution_count": 24,
     "metadata": {},
     "output_type": "execute_result"
    }
   ],
   "source": [
    "bicycle['Would you utilize a mobile bicycle repair service that meets at a location convenient to you (house, park, work, church etc)'].value_counts()"
   ]
  },
  {
   "cell_type": "code",
   "execution_count": 25,
   "metadata": {},
   "outputs": [
    {
     "data": {
      "text/plain": [
       "Yes                    111\n",
       "No                      95\n",
       "Unsure at this time     93\n",
       "Name: Would you utilize a mobile bicycle repair service that meets at a location convenient to you (house, park, work, church etc), dtype: int64"
      ]
     },
     "execution_count": 25,
     "metadata": {},
     "output_type": "execute_result"
    }
   ],
   "source": [
    "#If you have heard of the Bicycle Collective, will they utilize a mobile bicycle repair service\n",
    "mask = bicycle['Have you heard of the Bicycle Collective'] == 'Yes'\n",
    "bicycle[mask]['Would you utilize a mobile bicycle repair service that meets at a location convenient to you (house, park, work, church etc)'].value_counts()"
   ]
  },
  {
   "cell_type": "code",
   "execution_count": 26,
   "metadata": {
    "scrolled": true
   },
   "outputs": [
    {
     "data": {
      "text/plain": [
       "No                                                                                                                                                                        70\n",
       "Group rides                                                                                                                                                               30\n",
       "Events                                                                                                                                                                    12\n",
       "Not sure                                                                                                                                                                  11\n",
       "N/a                                                                                                                                                                        8\n",
       "                                                                                                                                                                          ..\n",
       "Group Rides would be great!                                                                                                                                                1\n",
       "Better communication. I filled out paper work to volunteer and I call and email and never hear back. If they reply to email, it usually takes a long time for a reply.     1\n",
       "Group rides can be fun.                                                                                                                                                    1\n",
       "Still don’t know what it is.                                                                                                                                               1\n",
       "Nope, keep up the good work                                                                                                                                                1\n",
       "Name: Are there other services or events you would like to see out of the Bicycle Collective (e.g. events, group rides etc), Length: 214, dtype: int64"
      ]
     },
     "execution_count": 26,
     "metadata": {},
     "output_type": "execute_result"
    }
   ],
   "source": [
    "bicycle['Are there other services or events you would like to see out of the Bicycle Collective (e.g. events, group rides etc)'].value_counts()"
   ]
  },
  {
   "cell_type": "code",
   "execution_count": 27,
   "metadata": {},
   "outputs": [
    {
     "data": {
      "text/plain": [
       "No                                                               48\n",
       "Group rides                                                      22\n",
       "Events                                                           10\n",
       "Na                                                                7\n",
       "Not sure                                                          7\n",
       "                                                                 ..\n",
       "Etc                                                               1\n",
       "N                                                                 1\n",
       "Service clinics                                                   1\n",
       "Unknown                                                           1\n",
       "More 'open to the public hours' for getting parts after work.     1\n",
       "Name: Are there other services or events you would like to see out of the Bicycle Collective (e.g. events, group rides etc), Length: 181, dtype: int64"
      ]
     },
     "execution_count": 27,
     "metadata": {},
     "output_type": "execute_result"
    }
   ],
   "source": [
    "#If you have heard of the bicycle collective, would you like to see other services\n",
    "mask = bicycle['Have you heard of the Bicycle Collective'] == 'Yes'\n",
    "bicycle[mask]['Are there other services or events you would like to see out of the Bicycle Collective (e.g. events, group rides etc)'].value_counts()"
   ]
  },
  {
   "cell_type": "code",
   "execution_count": 28,
   "metadata": {},
   "outputs": [
    {
     "data": {
      "text/plain": [
       "Facebook     233\n",
       "Instagram    112\n",
       "Email         24\n",
       "Twitter        7\n",
       "Reddit         3\n",
       "Snapchat       2\n",
       "None           2\n",
       "TikTok         1\n",
       "Mewe           1\n",
       "Varies         1\n",
       "Name: What is your preferred social media platform?, dtype: int64"
      ]
     },
     "execution_count": 28,
     "metadata": {},
     "output_type": "execute_result"
    }
   ],
   "source": [
    "bicycle['What is your preferred social media platform?'].value_counts()"
   ]
  },
  {
   "cell_type": "code",
   "execution_count": 29,
   "metadata": {},
   "outputs": [
    {
     "data": {
      "text/plain": [
       "Facebook     180\n",
       "Instagram     90\n",
       "Email         18\n",
       "Twitter        6\n",
       "Snapchat       2\n",
       "TikTok         1\n",
       "None           1\n",
       "Varies         1\n",
       "Name: What is your preferred social media platform?, dtype: int64"
      ]
     },
     "execution_count": 29,
     "metadata": {},
     "output_type": "execute_result"
    }
   ],
   "source": [
    "mask = bicycle['Have you heard of the Bicycle Collective'] == 'Yes'\n",
    "bicycle[mask]['What is your preferred social media platform?'].value_counts()"
   ]
  },
  {
   "cell_type": "code",
   "execution_count": 30,
   "metadata": {},
   "outputs": [
    {
     "data": {
      "text/plain": [
       "40-49                   123\n",
       "30-39                   101\n",
       "50+                     101\n",
       "19-29                    55\n",
       "<19                       4\n",
       "Prefer Not to Answer      2\n",
       "Name: Age, dtype: int64"
      ]
     },
     "execution_count": 30,
     "metadata": {},
     "output_type": "execute_result"
    }
   ],
   "source": [
    "bicycle['Age'].value_counts()"
   ]
  },
  {
   "cell_type": "code",
   "execution_count": 31,
   "metadata": {},
   "outputs": [
    {
     "data": {
      "text/plain": [
       "40-49                   100\n",
       "30-39                    79\n",
       "50+                      75\n",
       "19-29                    41\n",
       "<19                       3\n",
       "Prefer Not to Answer      1\n",
       "Name: Age, dtype: int64"
      ]
     },
     "execution_count": 31,
     "metadata": {},
     "output_type": "execute_result"
    }
   ],
   "source": [
    "mask = bicycle['Have you heard of the Bicycle Collective'] == 'Yes'\n",
    "bicycle[mask]['Age'].value_counts()"
   ]
  },
  {
   "cell_type": "code",
   "execution_count": 32,
   "metadata": {},
   "outputs": [
    {
     "data": {
      "text/plain": [
       "Male                 219\n",
       "Female               130\n",
       "Prefer not to say      5\n",
       "Name: Gender (optional), dtype: int64"
      ]
     },
     "execution_count": 32,
     "metadata": {},
     "output_type": "execute_result"
    }
   ],
   "source": [
    "bicycle['Gender (optional)'].value_counts()"
   ]
  },
  {
   "cell_type": "code",
   "execution_count": 33,
   "metadata": {},
   "outputs": [
    {
     "data": {
      "text/plain": [
       "Male                 174\n",
       "Female                97\n",
       "Prefer not to say      5\n",
       "Name: Gender (optional), dtype: int64"
      ]
     },
     "execution_count": 33,
     "metadata": {},
     "output_type": "execute_result"
    }
   ],
   "source": [
    "mask = bicycle['Have you heard of the Bicycle Collective'] == 'Yes'\n",
    "bicycle[mask]['Gender (optional)'].value_counts()"
   ]
  },
  {
   "cell_type": "code",
   "execution_count": 34,
   "metadata": {},
   "outputs": [
    {
     "data": {
      "text/plain": [
       ">$100,000           154\n",
       "$75,001-$100,000     65\n",
       "$50,001-$75,000      46\n",
       "$25,001-$50,000      41\n",
       "<$25,000             15\n",
       "Name: Household income (optional), dtype: int64"
      ]
     },
     "execution_count": 34,
     "metadata": {},
     "output_type": "execute_result"
    }
   ],
   "source": [
    "bicycle['Household income (optional)'].value_counts()"
   ]
  },
  {
   "cell_type": "code",
   "execution_count": 35,
   "metadata": {},
   "outputs": [
    {
     "data": {
      "text/plain": [
       ">$100,000           120\n",
       "$75,001-$100,000     48\n",
       "$25,001-$50,000      34\n",
       "$50,001-$75,000      34\n",
       "<$25,000             11\n",
       "Name: Household income (optional), dtype: int64"
      ]
     },
     "execution_count": 35,
     "metadata": {},
     "output_type": "execute_result"
    }
   ],
   "source": [
    "mask = bicycle['Have you heard of the Bicycle Collective'] == 'Yes'\n",
    "bicycle[mask]['Household income (optional)'].value_counts()"
   ]
  },
  {
   "cell_type": "code",
   "execution_count": null,
   "metadata": {},
   "outputs": [],
   "source": []
  }
 ],
 "metadata": {
  "kernelspec": {
   "display_name": "Python 3",
   "language": "python",
   "name": "python3"
  },
  "language_info": {
   "codemirror_mode": {
    "name": "ipython",
    "version": 3
   },
   "file_extension": ".py",
   "mimetype": "text/x-python",
   "name": "python",
   "nbconvert_exporter": "python",
   "pygments_lexer": "ipython3",
   "version": "3.8.5"
  }
 },
 "nbformat": 4,
 "nbformat_minor": 4
}
